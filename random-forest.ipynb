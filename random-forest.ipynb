{
    "cells": [
        {
            "cell_type": "markdown",
            "source": [
                "## Random Forest\r\n",
                "\r\n",
                "Random Forest is a method that operates by constructing multiple Decision Trees during training phase.\r\n",
                "The Decision of the majority of the trees is chosen by the random forest as the final decision.\r\n",
                "\r\n",
                "**How does a random forest work ?**\r\n",
                "Consider there are 3 decision trees and in each tree the splitting conditions are different.\r\n",
                "\r\n",
                "For eg, in **classification of fruits**:\r\n",
                "* `Tree 1` splits data based on the diameter and then color\r\n",
                "* `Tree 2` splits data based on the color and then the shape\r\n",
                "* `Tree 3` splits data based on the diameter and then when(season) the fruit grows\r\n",
                "\r\n",
                "Result - The majority of decisions from all different trees"
            ],
            "metadata": {}
        },
        {
            "cell_type": "markdown",
            "source": [
                "### Use Case - Iris Flower Analysis"
            ],
            "metadata": {}
        },
        {
            "cell_type": "code",
            "execution_count": 2,
            "source": [
                "# Import Libraries\r\n",
                "import numpy as np\r\n",
                "import pandas as pd\r\n",
                "from sklearn.ensemble import RandomForestClassifier\r\n",
                "from sklearn.datasets import load_iris\r\n",
                "\r\n",
                "np.random.seed(0)"
            ],
            "outputs": [],
            "metadata": {}
        },
        {
            "cell_type": "code",
            "execution_count": 3,
            "source": [
                "iris = load_iris()\r\n",
                "df = pd.DataFrame(iris.data, columns=iris.feature_names)\r\n",
                "df.head()"
            ],
            "outputs": [
                {
                    "output_type": "execute_result",
                    "data": {
                        "text/plain": [
                            "   sepal length (cm)  sepal width (cm)  petal length (cm)  petal width (cm)\n",
                            "0                5.1               3.5                1.4               0.2\n",
                            "1                4.9               3.0                1.4               0.2\n",
                            "2                4.7               3.2                1.3               0.2\n",
                            "3                4.6               3.1                1.5               0.2\n",
                            "4                5.0               3.6                1.4               0.2"
                        ],
                        "text/html": [
                            "<div>\n",
                            "<style scoped>\n",
                            "    .dataframe tbody tr th:only-of-type {\n",
                            "        vertical-align: middle;\n",
                            "    }\n",
                            "\n",
                            "    .dataframe tbody tr th {\n",
                            "        vertical-align: top;\n",
                            "    }\n",
                            "\n",
                            "    .dataframe thead th {\n",
                            "        text-align: right;\n",
                            "    }\n",
                            "</style>\n",
                            "<table border=\"1\" class=\"dataframe\">\n",
                            "  <thead>\n",
                            "    <tr style=\"text-align: right;\">\n",
                            "      <th></th>\n",
                            "      <th>sepal length (cm)</th>\n",
                            "      <th>sepal width (cm)</th>\n",
                            "      <th>petal length (cm)</th>\n",
                            "      <th>petal width (cm)</th>\n",
                            "    </tr>\n",
                            "  </thead>\n",
                            "  <tbody>\n",
                            "    <tr>\n",
                            "      <th>0</th>\n",
                            "      <td>5.1</td>\n",
                            "      <td>3.5</td>\n",
                            "      <td>1.4</td>\n",
                            "      <td>0.2</td>\n",
                            "    </tr>\n",
                            "    <tr>\n",
                            "      <th>1</th>\n",
                            "      <td>4.9</td>\n",
                            "      <td>3.0</td>\n",
                            "      <td>1.4</td>\n",
                            "      <td>0.2</td>\n",
                            "    </tr>\n",
                            "    <tr>\n",
                            "      <th>2</th>\n",
                            "      <td>4.7</td>\n",
                            "      <td>3.2</td>\n",
                            "      <td>1.3</td>\n",
                            "      <td>0.2</td>\n",
                            "    </tr>\n",
                            "    <tr>\n",
                            "      <th>3</th>\n",
                            "      <td>4.6</td>\n",
                            "      <td>3.1</td>\n",
                            "      <td>1.5</td>\n",
                            "      <td>0.2</td>\n",
                            "    </tr>\n",
                            "    <tr>\n",
                            "      <th>4</th>\n",
                            "      <td>5.0</td>\n",
                            "      <td>3.6</td>\n",
                            "      <td>1.4</td>\n",
                            "      <td>0.2</td>\n",
                            "    </tr>\n",
                            "  </tbody>\n",
                            "</table>\n",
                            "</div>"
                        ]
                    },
                    "metadata": {},
                    "execution_count": 3
                }
            ],
            "metadata": {}
        },
        {
            "cell_type": "code",
            "execution_count": 4,
            "source": [
                "df['species'] = pd.Categorical.from_codes(iris.target, iris.target_names)\r\n",
                "df.head()"
            ],
            "outputs": [
                {
                    "output_type": "execute_result",
                    "data": {
                        "text/plain": [
                            "   sepal length (cm)  sepal width (cm)  petal length (cm)  petal width (cm)  \\\n",
                            "0                5.1               3.5                1.4               0.2   \n",
                            "1                4.9               3.0                1.4               0.2   \n",
                            "2                4.7               3.2                1.3               0.2   \n",
                            "3                4.6               3.1                1.5               0.2   \n",
                            "4                5.0               3.6                1.4               0.2   \n",
                            "\n",
                            "  species  \n",
                            "0  setosa  \n",
                            "1  setosa  \n",
                            "2  setosa  \n",
                            "3  setosa  \n",
                            "4  setosa  "
                        ],
                        "text/html": [
                            "<div>\n",
                            "<style scoped>\n",
                            "    .dataframe tbody tr th:only-of-type {\n",
                            "        vertical-align: middle;\n",
                            "    }\n",
                            "\n",
                            "    .dataframe tbody tr th {\n",
                            "        vertical-align: top;\n",
                            "    }\n",
                            "\n",
                            "    .dataframe thead th {\n",
                            "        text-align: right;\n",
                            "    }\n",
                            "</style>\n",
                            "<table border=\"1\" class=\"dataframe\">\n",
                            "  <thead>\n",
                            "    <tr style=\"text-align: right;\">\n",
                            "      <th></th>\n",
                            "      <th>sepal length (cm)</th>\n",
                            "      <th>sepal width (cm)</th>\n",
                            "      <th>petal length (cm)</th>\n",
                            "      <th>petal width (cm)</th>\n",
                            "      <th>species</th>\n",
                            "    </tr>\n",
                            "  </thead>\n",
                            "  <tbody>\n",
                            "    <tr>\n",
                            "      <th>0</th>\n",
                            "      <td>5.1</td>\n",
                            "      <td>3.5</td>\n",
                            "      <td>1.4</td>\n",
                            "      <td>0.2</td>\n",
                            "      <td>setosa</td>\n",
                            "    </tr>\n",
                            "    <tr>\n",
                            "      <th>1</th>\n",
                            "      <td>4.9</td>\n",
                            "      <td>3.0</td>\n",
                            "      <td>1.4</td>\n",
                            "      <td>0.2</td>\n",
                            "      <td>setosa</td>\n",
                            "    </tr>\n",
                            "    <tr>\n",
                            "      <th>2</th>\n",
                            "      <td>4.7</td>\n",
                            "      <td>3.2</td>\n",
                            "      <td>1.3</td>\n",
                            "      <td>0.2</td>\n",
                            "      <td>setosa</td>\n",
                            "    </tr>\n",
                            "    <tr>\n",
                            "      <th>3</th>\n",
                            "      <td>4.6</td>\n",
                            "      <td>3.1</td>\n",
                            "      <td>1.5</td>\n",
                            "      <td>0.2</td>\n",
                            "      <td>setosa</td>\n",
                            "    </tr>\n",
                            "    <tr>\n",
                            "      <th>4</th>\n",
                            "      <td>5.0</td>\n",
                            "      <td>3.6</td>\n",
                            "      <td>1.4</td>\n",
                            "      <td>0.2</td>\n",
                            "      <td>setosa</td>\n",
                            "    </tr>\n",
                            "  </tbody>\n",
                            "</table>\n",
                            "</div>"
                        ]
                    },
                    "metadata": {},
                    "execution_count": 4
                }
            ],
            "metadata": {}
        },
        {
            "cell_type": "code",
            "execution_count": 5,
            "source": [
                "df['is_train'] = np.random.uniform(0, 1, len(df)) <= .75\r\n",
                "df.head()"
            ],
            "outputs": [
                {
                    "output_type": "execute_result",
                    "data": {
                        "text/plain": [
                            "   sepal length (cm)  sepal width (cm)  petal length (cm)  petal width (cm)  \\\n",
                            "0                5.1               3.5                1.4               0.2   \n",
                            "1                4.9               3.0                1.4               0.2   \n",
                            "2                4.7               3.2                1.3               0.2   \n",
                            "3                4.6               3.1                1.5               0.2   \n",
                            "4                5.0               3.6                1.4               0.2   \n",
                            "\n",
                            "  species  is_train  \n",
                            "0  setosa      True  \n",
                            "1  setosa      True  \n",
                            "2  setosa      True  \n",
                            "3  setosa      True  \n",
                            "4  setosa      True  "
                        ],
                        "text/html": [
                            "<div>\n",
                            "<style scoped>\n",
                            "    .dataframe tbody tr th:only-of-type {\n",
                            "        vertical-align: middle;\n",
                            "    }\n",
                            "\n",
                            "    .dataframe tbody tr th {\n",
                            "        vertical-align: top;\n",
                            "    }\n",
                            "\n",
                            "    .dataframe thead th {\n",
                            "        text-align: right;\n",
                            "    }\n",
                            "</style>\n",
                            "<table border=\"1\" class=\"dataframe\">\n",
                            "  <thead>\n",
                            "    <tr style=\"text-align: right;\">\n",
                            "      <th></th>\n",
                            "      <th>sepal length (cm)</th>\n",
                            "      <th>sepal width (cm)</th>\n",
                            "      <th>petal length (cm)</th>\n",
                            "      <th>petal width (cm)</th>\n",
                            "      <th>species</th>\n",
                            "      <th>is_train</th>\n",
                            "    </tr>\n",
                            "  </thead>\n",
                            "  <tbody>\n",
                            "    <tr>\n",
                            "      <th>0</th>\n",
                            "      <td>5.1</td>\n",
                            "      <td>3.5</td>\n",
                            "      <td>1.4</td>\n",
                            "      <td>0.2</td>\n",
                            "      <td>setosa</td>\n",
                            "      <td>True</td>\n",
                            "    </tr>\n",
                            "    <tr>\n",
                            "      <th>1</th>\n",
                            "      <td>4.9</td>\n",
                            "      <td>3.0</td>\n",
                            "      <td>1.4</td>\n",
                            "      <td>0.2</td>\n",
                            "      <td>setosa</td>\n",
                            "      <td>True</td>\n",
                            "    </tr>\n",
                            "    <tr>\n",
                            "      <th>2</th>\n",
                            "      <td>4.7</td>\n",
                            "      <td>3.2</td>\n",
                            "      <td>1.3</td>\n",
                            "      <td>0.2</td>\n",
                            "      <td>setosa</td>\n",
                            "      <td>True</td>\n",
                            "    </tr>\n",
                            "    <tr>\n",
                            "      <th>3</th>\n",
                            "      <td>4.6</td>\n",
                            "      <td>3.1</td>\n",
                            "      <td>1.5</td>\n",
                            "      <td>0.2</td>\n",
                            "      <td>setosa</td>\n",
                            "      <td>True</td>\n",
                            "    </tr>\n",
                            "    <tr>\n",
                            "      <th>4</th>\n",
                            "      <td>5.0</td>\n",
                            "      <td>3.6</td>\n",
                            "      <td>1.4</td>\n",
                            "      <td>0.2</td>\n",
                            "      <td>setosa</td>\n",
                            "      <td>True</td>\n",
                            "    </tr>\n",
                            "  </tbody>\n",
                            "</table>\n",
                            "</div>"
                        ]
                    },
                    "metadata": {},
                    "execution_count": 5
                }
            ],
            "metadata": {}
        },
        {
            "cell_type": "code",
            "execution_count": 6,
            "source": [
                "train, test = df[df['is_train']==True], df[df['is_train']==False]\r\n",
                "print('Training Data:', len(train))\r\n",
                "print('Test Data:', len(test))"
            ],
            "outputs": [
                {
                    "output_type": "stream",
                    "name": "stdout",
                    "text": [
                        "Training Data: 118\n",
                        "Test Data: 32\n"
                    ]
                }
            ],
            "metadata": {}
        },
        {
            "cell_type": "code",
            "execution_count": 10,
            "source": [
                "features = df.columns[:4]\r\n",
                "features"
            ],
            "outputs": [
                {
                    "output_type": "execute_result",
                    "data": {
                        "text/plain": [
                            "Index(['sepal length (cm)', 'sepal width (cm)', 'petal length (cm)',\n",
                            "       'petal width (cm)'],\n",
                            "      dtype='object')"
                        ]
                    },
                    "metadata": {},
                    "execution_count": 10
                }
            ],
            "metadata": {}
        },
        {
            "cell_type": "code",
            "execution_count": 11,
            "source": [
                "# Converting each species name into numbers\r\n",
                "y = pd.factorize(train['species'])[0]\r\n",
                "y"
            ],
            "outputs": [
                {
                    "output_type": "execute_result",
                    "data": {
                        "text/plain": [
                            "array([0, 0, 0, 0, 0, 0, 0, 0, 0, 0, 0, 0, 0, 0, 0, 0, 0, 0, 0, 0, 0, 0,\n",
                            "       0, 0, 0, 0, 0, 0, 0, 0, 0, 0, 0, 0, 0, 0, 0, 1, 1, 1, 1, 1, 1, 1,\n",
                            "       1, 1, 1, 1, 1, 1, 1, 1, 1, 1, 1, 1, 1, 1, 1, 1, 1, 1, 1, 1, 1, 1,\n",
                            "       1, 1, 1, 1, 1, 1, 1, 1, 1, 1, 1, 1, 1, 1, 2, 2, 2, 2, 2, 2, 2, 2,\n",
                            "       2, 2, 2, 2, 2, 2, 2, 2, 2, 2, 2, 2, 2, 2, 2, 2, 2, 2, 2, 2, 2, 2,\n",
                            "       2, 2, 2, 2, 2, 2, 2, 2], dtype=int64)"
                        ]
                    },
                    "metadata": {},
                    "execution_count": 11
                }
            ],
            "metadata": {}
        },
        {
            "cell_type": "code",
            "execution_count": 12,
            "source": [
                "clf = RandomForestClassifier(n_jobs=2, random_state=0)\r\n",
                "clf.fit(train[features], y)"
            ],
            "outputs": [
                {
                    "output_type": "execute_result",
                    "data": {
                        "text/plain": [
                            "RandomForestClassifier(bootstrap=True, ccp_alpha=0.0, class_weight=None,\n",
                            "                       criterion='gini', max_depth=None, max_features='auto',\n",
                            "                       max_leaf_nodes=None, max_samples=None,\n",
                            "                       min_impurity_decrease=0.0, min_impurity_split=None,\n",
                            "                       min_samples_leaf=1, min_samples_split=2,\n",
                            "                       min_weight_fraction_leaf=0.0, n_estimators=100, n_jobs=2,\n",
                            "                       oob_score=False, random_state=0, verbose=0,\n",
                            "                       warm_start=False)"
                        ]
                    },
                    "metadata": {},
                    "execution_count": 12
                }
            ],
            "metadata": {}
        },
        {
            "cell_type": "code",
            "execution_count": 13,
            "source": [
                "clf.predict(test[features])"
            ],
            "outputs": [
                {
                    "output_type": "execute_result",
                    "data": {
                        "text/plain": [
                            "array([0, 0, 0, 0, 0, 0, 0, 0, 0, 0, 0, 0, 0, 1, 1, 1, 2, 2, 1, 1, 2, 2,\n",
                            "       2, 2, 2, 2, 2, 2, 2, 2, 2, 2], dtype=int64)"
                        ]
                    },
                    "metadata": {},
                    "execution_count": 13
                }
            ],
            "metadata": {}
        },
        {
            "cell_type": "code",
            "execution_count": 15,
            "source": [
                "# Viewng the predicted probability\r\n",
                "clf.predict_proba(test[features])[10:20]"
            ],
            "outputs": [
                {
                    "output_type": "execute_result",
                    "data": {
                        "text/plain": [
                            "array([[1.  , 0.  , 0.  ],\n",
                            "       [0.99, 0.01, 0.  ],\n",
                            "       [1.  , 0.  , 0.  ],\n",
                            "       [0.  , 0.67, 0.33],\n",
                            "       [0.  , 1.  , 0.  ],\n",
                            "       [0.  , 0.82, 0.18],\n",
                            "       [0.  , 0.03, 0.97],\n",
                            "       [0.  , 0.42, 0.58],\n",
                            "       [0.  , 0.99, 0.01],\n",
                            "       [0.  , 0.96, 0.04]])"
                        ]
                    },
                    "metadata": {},
                    "execution_count": 15
                }
            ],
            "metadata": {}
        },
        {
            "cell_type": "code",
            "execution_count": 17,
            "source": [
                "preds = iris.target_names[clf.predict(test[features])]\r\n",
                "preds[0:25]"
            ],
            "outputs": [
                {
                    "output_type": "execute_result",
                    "data": {
                        "text/plain": [
                            "array(['setosa', 'setosa', 'setosa', 'setosa', 'setosa', 'setosa',\n",
                            "       'setosa', 'setosa', 'setosa', 'setosa', 'setosa', 'setosa',\n",
                            "       'setosa', 'versicolor', 'versicolor', 'versicolor', 'virginica',\n",
                            "       'virginica', 'versicolor', 'versicolor', 'virginica', 'virginica',\n",
                            "       'virginica', 'virginica', 'virginica'], dtype='<U10')"
                        ]
                    },
                    "metadata": {},
                    "execution_count": 17
                }
            ],
            "metadata": {}
        },
        {
            "cell_type": "code",
            "execution_count": 18,
            "source": [
                "test.species.head()"
            ],
            "outputs": [
                {
                    "output_type": "execute_result",
                    "data": {
                        "text/plain": [
                            "7     setosa\n",
                            "8     setosa\n",
                            "10    setosa\n",
                            "13    setosa\n",
                            "17    setosa\n",
                            "Name: species, dtype: category\n",
                            "Categories (3, object): [setosa, versicolor, virginica]"
                        ]
                    },
                    "metadata": {},
                    "execution_count": 18
                }
            ],
            "metadata": {}
        },
        {
            "cell_type": "code",
            "execution_count": 19,
            "source": [
                "# Confusion Matrix\r\n",
                "pd.crosstab(test['species'], preds, rownames=['Actual Species'], colnames=['Predicted Scpecies'])"
            ],
            "outputs": [
                {
                    "output_type": "execute_result",
                    "data": {
                        "text/plain": [
                            "Predicted Scpecies  setosa  versicolor  virginica\n",
                            "Actual Species                                   \n",
                            "setosa                  13           0          0\n",
                            "versicolor               0           5          2\n",
                            "virginica                0           0         12"
                        ],
                        "text/html": [
                            "<div>\n",
                            "<style scoped>\n",
                            "    .dataframe tbody tr th:only-of-type {\n",
                            "        vertical-align: middle;\n",
                            "    }\n",
                            "\n",
                            "    .dataframe tbody tr th {\n",
                            "        vertical-align: top;\n",
                            "    }\n",
                            "\n",
                            "    .dataframe thead th {\n",
                            "        text-align: right;\n",
                            "    }\n",
                            "</style>\n",
                            "<table border=\"1\" class=\"dataframe\">\n",
                            "  <thead>\n",
                            "    <tr style=\"text-align: right;\">\n",
                            "      <th>Predicted Scpecies</th>\n",
                            "      <th>setosa</th>\n",
                            "      <th>versicolor</th>\n",
                            "      <th>virginica</th>\n",
                            "    </tr>\n",
                            "    <tr>\n",
                            "      <th>Actual Species</th>\n",
                            "      <th></th>\n",
                            "      <th></th>\n",
                            "      <th></th>\n",
                            "    </tr>\n",
                            "  </thead>\n",
                            "  <tbody>\n",
                            "    <tr>\n",
                            "      <th>setosa</th>\n",
                            "      <td>13</td>\n",
                            "      <td>0</td>\n",
                            "      <td>0</td>\n",
                            "    </tr>\n",
                            "    <tr>\n",
                            "      <th>versicolor</th>\n",
                            "      <td>0</td>\n",
                            "      <td>5</td>\n",
                            "      <td>2</td>\n",
                            "    </tr>\n",
                            "    <tr>\n",
                            "      <th>virginica</th>\n",
                            "      <td>0</td>\n",
                            "      <td>0</td>\n",
                            "      <td>12</td>\n",
                            "    </tr>\n",
                            "  </tbody>\n",
                            "</table>\n",
                            "</div>"
                        ]
                    },
                    "metadata": {},
                    "execution_count": 19
                }
            ],
            "metadata": {}
        },
        {
            "cell_type": "code",
            "execution_count": null,
            "source": [],
            "outputs": [],
            "metadata": {}
        }
    ],
    "metadata": {
        "orig_nbformat": 4,
        "language_info": {
            "name": "python",
            "version": "3.7.0",
            "mimetype": "text/x-python",
            "codemirror_mode": {
                "name": "ipython",
                "version": 3
            },
            "pygments_lexer": "ipython3",
            "nbconvert_exporter": "python",
            "file_extension": ".py"
        },
        "kernelspec": {
            "name": "python3",
            "display_name": "Python 3.7.0 64-bit"
        },
        "interpreter": {
            "hash": "c9f436d4e3521765bb068fec610f28421bb070aebde03a9830fcc48f46f13e8e"
        }
    },
    "nbformat": 4,
    "nbformat_minor": 2
}